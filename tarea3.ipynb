{
 "cells": [
  {
   "cell_type": "code",
   "execution_count": 1,
   "metadata": {
    "collapsed": true
   },
   "outputs": [
    {
     "name": "stdout",
     "output_type": "stream",
     "text": [
      "[2118 2108 2096 ...    0    0    0]\n",
      "[2628 2628 2628 ...    0    0    0]\n",
      "[2051 2052 2052 ...    0    0    0]\n",
      "[2076 2075 2076 ...    0    0    0]\n",
      "[2892 2891 2891 ...    0    0    0]\n"
     ]
    }
   ],
   "source": [
    "import numpy as np\n",
    "\n",
    "channels = []\n",
    "for i in range(1, 6):\n",
    "    fid = open(f'S-31/REGTOT11.C{i}', 'rb')\n",
    "    c = np.fromfile(fid, np.int16)\n",
    "    channels.append(c)\n",
    "\n",
    "for i in channels:\n",
    "    print(i)"
   ]
  }
 ],
 "metadata": {
  "kernelspec": {
   "name": "pycharm-cc2a416",
   "language": "python",
   "display_name": "PyCharm (untitled)"
  },
  "language_info": {
   "codemirror_mode": {
    "name": "ipython",
    "version": 2
   },
   "file_extension": ".py",
   "mimetype": "text/x-python",
   "name": "python",
   "nbconvert_exporter": "python",
   "pygments_lexer": "ipython2",
   "version": "2.7.6"
  }
 },
 "nbformat": 4,
 "nbformat_minor": 0
}